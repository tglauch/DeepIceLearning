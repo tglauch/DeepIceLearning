{
 "cells": [
  {
   "cell_type": "code",
   "execution_count": 1,
   "metadata": {},
   "outputs": [],
   "source": [
    "import numpy as np\n",
    "import numpy.ma as ma\n",
    "import os\n",
    "import pickle\n",
    "import matplotlib.pyplot as plt\n",
    "import matplotlib.patches as mpatches\n",
    "import itertools\n",
    "from matplotlib import gridspec\n",
    "\n",
    "import sys\n",
    "sys.path.append('/scratch9/mkron/software/DeepIceLearning/Plots')\n",
    "import plot_functions_mk as pfmk"
   ]
  },
  {
   "cell_type": "code",
   "execution_count": 2,
   "metadata": {},
   "outputs": [
    {
     "name": "stdout",
     "output_type": "stream",
     "text": [
      "RUN 66\n",
      "ACC for the single Targets of the overall best epoch\n",
      "Overall Performence: 82.73%\n",
      "Acc on Validation Set of Target 1 Event Type : 78.63%\n",
      "Acc on Validation Set of Target 2 Starting   : 82.37%\n",
      "Acc on Validation Set of Target 3 Coincidence: 93.65%\n",
      "Acc on Validation Set of Target 3 UpDown     : 76.27%\n",
      "\n",
      "\n",
      "RUN 68\n",
      "ACC for the single Targets of the overall best epoch\n",
      "Overall Performence: 82.76%\n",
      "Acc on Validation Set of Target 1 Event Type : 78.03%\n",
      "Acc on Validation Set of Target 2 Starting   : 82.55%\n",
      "Acc on Validation Set of Target 3 Coincidence: 93.92%\n",
      "Acc on Validation Set of Target 3 UpDown     : 76.56%\n",
      "\n",
      "\n",
      "RUN 69\n",
      "ACC for the single Targets of the overall best epoch\n",
      "Overall Performence: 82.89%\n",
      "Acc on Validation Set of Target 1 Event Type : 78.85%\n",
      "Acc on Validation Set of Target 2 Starting   : 82.66%\n",
      "Acc on Validation Set of Target 3 Coincidence: 93.79%\n",
      "Acc on Validation Set of Target 3 UpDown     : 76.25%\n",
      "\n",
      "\n",
      "RUN 70\n",
      "ACC for the single Targets of the overall best epoch\n",
      "Overall Performence: 82.37%\n",
      "Acc on Validation Set of Target 1 Event Type : 79.09%\n",
      "Acc on Validation Set of Target 2 Starting   : 81.98%\n",
      "Acc on Validation Set of Target 3 Coincidence: 93.77%\n",
      "Acc on Validation Set of Target 3 UpDown     : 74.66%\n",
      "\n",
      "\n",
      "RUN 71\n",
      "ACC for the single Targets of the overall best epoch\n",
      "Overall Performence: 83.71%\n",
      "Acc on Validation Set of Target 1 Event Type : 80.38%\n",
      "Acc on Validation Set of Target 2 Starting   : 82.64%\n",
      "Acc on Validation Set of Target 3 Coincidence: 94.22%\n",
      "Acc on Validation Set of Target 3 UpDown     : 77.6%\n",
      "\n",
      "\n"
     ]
    }
   ],
   "source": [
    "RUNS = [66, 68, 69, 70, 71]\n",
    "for i in xrange(len(RUNS)):\n",
    "    DATA_DIR = \"/scratch9/mkron/data/NN_out/run{}/\".format(RUNS[i])\n",
    "    print \"RUN {}\".format(RUNS[i])\n",
    "    predictions_mctrue = pickle.load(file(os.path.join(DATA_DIR, 'prediction.pickle')))\n",
    "    epochs_acc_loss = np.delete(np.genfromtxt(os.path.join(DATA_DIR, \"loss_logger.csv\"), delimiter=','), 0, axis=0).T\n",
    "    acc_val_1 = epochs_acc_loss[10]\n",
    "    acc_val_2 = epochs_acc_loss[12]\n",
    "    acc_val_3 = epochs_acc_loss[14]\n",
    "    acc_val_4 = epochs_acc_loss[16]\n",
    "    sum_acc_val = acc_val_1 + acc_val_2 + acc_val_3 + acc_val_4\n",
    "    print \"ACC for the single Targets of the overall best epoch\"\n",
    "    print \"Overall Performence: {}%\".format(round(np.max(sum_acc_val)/4*100, 2))\n",
    "    print \"Acc on Validation Set of Target 1 Event Type : {}%\".format(round(np.max(acc_val_1[np.argmax(sum_acc_val)])*100 ,2))\n",
    "    print \"Acc on Validation Set of Target 2 Starting   : {}%\".format(round(np.max(acc_val_2[np.argmax(sum_acc_val)])*100 ,2))\n",
    "    print \"Acc on Validation Set of Target 3 Coincidence: {}%\".format(round(np.max(acc_val_3[np.argmax(sum_acc_val)])*100 ,2))\n",
    "    print \"Acc on Validation Set of Target 3 UpDown     : {}%\".format(round(np.max(acc_val_4[np.argmax(sum_acc_val)])*100 ,2))\n",
    "    print \"\\n\""
   ]
  },
  {
   "cell_type": "code",
   "execution_count": null,
   "metadata": {},
   "outputs": [],
   "source": []
  },
  {
   "cell_type": "code",
   "execution_count": null,
   "metadata": {},
   "outputs": [],
   "source": []
  }
 ],
 "metadata": {
  "kernelspec": {
   "display_name": "Python 2",
   "language": "python",
   "name": "python2"
  },
  "language_info": {
   "codemirror_mode": {
    "name": "ipython",
    "version": 2
   },
   "file_extension": ".py",
   "mimetype": "text/x-python",
   "name": "python",
   "nbconvert_exporter": "python",
   "pygments_lexer": "ipython2",
   "version": "2.7.5"
  }
 },
 "nbformat": 4,
 "nbformat_minor": 2
}
