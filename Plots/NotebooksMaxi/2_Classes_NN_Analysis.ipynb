{
 "cells": [
  {
   "cell_type": "code",
   "execution_count": 1,
   "metadata": {},
   "outputs": [],
   "source": [
    "import numpy as np\n",
    "import numpy.ma as ma\n",
    "import os\n",
    "import pickle\n",
    "import matplotlib.pyplot as plt\n",
    "import matplotlib.patches as mpatches\n",
    "import itertools\n",
    "from matplotlib import gridspec\n",
    "import itertools"
   ]
  },
  {
   "cell_type": "code",
   "execution_count": 2,
   "metadata": {},
   "outputs": [],
   "source": [
    "DATA_DIR = \"/scratch9/mkron/data/NN_out/run67/\"\n",
    "predictions_mctrue = pickle.load(file(os.path.join(DATA_DIR, 'prediction.pickle')))\n",
    "epochs_acc_loss = np.delete(np.genfromtxt(os.path.join(DATA_DIR, \"loss_logger.csv\"), delimiter=','), 0, axis=0).T"
   ]
  },
  {
   "cell_type": "code",
   "execution_count": 3,
   "metadata": {},
   "outputs": [],
   "source": [
    "#classes = (\"Cascade\", \"Track\")\n",
    "classes = (\"Down\", \"Up\")"
   ]
  },
  {
   "cell_type": "code",
   "execution_count": 4,
   "metadata": {},
   "outputs": [],
   "source": [
    "pred =  predictions_mctrue[\"prediction\"]\n",
    "mc_true = predictions_mctrue[\"mc_truth\"]['UpDownLabel_truth'][:len(pred)]\n",
    "reco_vals = predictions_mctrue[\"reco_vals\"]\n",
    "energy=[]\n",
    "#for i in xrange(0, len(reco_vals)-1):\n",
    "for i in xrange(0, len(pred)):\n",
    "    energy.append(reco_vals[i][1])\n",
    "energy = np.array(energy)"
   ]
  },
  {
   "cell_type": "code",
   "execution_count": 5,
   "metadata": {},
   "outputs": [
    {
     "name": "stdout",
     "output_type": "stream",
     "text": [
      "[  2.21200000e+03  -1.20000000e+01   1.00002004e+09 ...,   1.20000000e+01\n",
      "  -1.20000000e+01   2.21200000e+03]\n",
      "-12.0\n"
     ]
    }
   ],
   "source": [
    "print energy\n",
    "print reco_vals[1][1]"
   ]
  },
  {
   "cell_type": "code",
   "execution_count": 6,
   "metadata": {},
   "outputs": [
    {
     "name": "stderr",
     "output_type": "stream",
     "text": [
      "/home/ga38tul/.local/lib/python2.7/site-packages/ipykernel_launcher.py:8: RuntimeWarning: invalid value encountered in divide\n",
      "  \n"
     ]
    }
   ],
   "source": [
    "pred_for_Cascade = pred[mc_true == 1]\n",
    "E_for_Cascade = energy[mc_true == 1]\n",
    "pred_for_Track = pred[mc_true == 2]\n",
    "E_for_Track = energy[mc_true == 2]\n",
    "\n",
    "absolute, xe,ye = np.histogram2d(np.argmax(pred, axis=1)+1,mc_true,bins=(len(classes),len(classes)),range=((1,len(classes)),(1,len(classes))))\n",
    "# that means that the prediction has to correspond to a event type \n",
    "res_true = absolute/np.sum(absolute,axis=0)\n",
    "# normalization if the absolute values, so that the sum over PREDICTION is 1\n",
    "# that means that a event hast to be predicted as one type \n",
    "res_pred = absolute/np.sum(absolute,axis=1).reshape(-1,1)"
   ]
  },
  {
   "cell_type": "code",
   "execution_count": 7,
   "metadata": {},
   "outputs": [],
   "source": [
    "def plot_confusion_matrix(cm, classes,title=\"\",\n",
    "                          cmap=plt.cm.Blues):\n",
    "    \"\"\"\n",
    "    This function plots the confusion matrix.\n",
    "    \"\"\"\n",
    "\n",
    "    plt.imshow(cm, interpolation='nearest', cmap=cmap)\n",
    "    plt.title(title)\n",
    "    plt.colorbar()\n",
    "    tick_marks = np.arange(len(classes))\n",
    "    plt.xticks(tick_marks, classes, rotation=45)\n",
    "    plt.yticks(tick_marks, classes)\n",
    "    \n",
    "    thresh = cm.max() / 2.\n",
    "    for i, j in itertools.product(range(len(classes)), range(len(classes))):\n",
    "        plt.text(j, i, '{:.2f}'.format(cm[i, j]),\n",
    "                 horizontalalignment=\"center\",\n",
    "                 color=\"white\" if cm[i, j] > thresh else \"black\")  \n",
    "\n",
    "    plt.ylabel('Predicted label')\n",
    "    plt.xlabel('True label')"
   ]
  },
  {
   "cell_type": "code",
   "execution_count": 8,
   "metadata": {},
   "outputs": [],
   "source": [
    "def acc_vs_energy_plot(pred, true, energy, title, binnumber):\n",
    "    '''\n",
    "    inputs:\n",
    "    pred: predictions of the NN of the events\n",
    "    true: integer - what should the NN predict - number of class\n",
    "    energy: energys of the events\n",
    "       \n",
    "    '''\n",
    "\n",
    "    was_NN_right = [] #was_NN_right: Mask with 1 if prediction was right, if not 0\n",
    "    for i in xrange(0,len(pred)):\n",
    "        if np.argmax(pred[i])+1. == true:\n",
    "            was_NN_right.append(1)\n",
    "        else:\n",
    "            was_NN_right.append(0)\n",
    "    \n",
    "    \n",
    "    bins = np.linspace(np.min(np.log10(energy)), np.max(np.log10(energy)), binnumber)\n",
    "    valsTrue = np.histogram(np.log10(energy), weights=was_NN_right, bins=bins)[0]\n",
    "    valsAll = np.histogram(np.log10(energy), bins=bins)[0]\n",
    "    acc = 1.*valsTrue/valsAll\n",
    "\n",
    "\n",
    "    plt.plot(bins[:-1], acc, \"x\")\n",
    "    #plt.imshow(cm, interpolation='nearest', cmap=cmap)\n",
    "    plt.title(title)\n",
    "    plt.ylabel('accuracy')\n",
    "    plt.xlabel('log_10(E/GeV)')"
   ]
  },
  {
   "cell_type": "code",
   "execution_count": 9,
   "metadata": {},
   "outputs": [],
   "source": [
    "cutoff = 2*10**5\n",
    "pred_low= pred[energy< cutoff]\n",
    "pred_high= pred[energy> cutoff]\n",
    "mc_true_low= mc_true[energy< cutoff]\n",
    "mc_true_high= mc_true[energy> cutoff]"
   ]
  },
  {
   "cell_type": "code",
   "execution_count": 10,
   "metadata": {},
   "outputs": [
    {
     "name": "stderr",
     "output_type": "stream",
     "text": [
      "/home/ga38tul/.local/lib/python2.7/site-packages/ipykernel_launcher.py:3: RuntimeWarning: invalid value encountered in divide\n",
      "  This is separate from the ipykernel package so we can avoid doing imports until\n",
      "/home/ga38tul/.local/lib/python2.7/site-packages/ipykernel_launcher.py:4: RuntimeWarning: invalid value encountered in divide\n",
      "  after removing the cwd from sys.path.\n"
     ]
    }
   ],
   "source": [
    "absolute_low, xe_low,ye_low = np.histogram2d(np.argmax(pred_low, axis=1)+1,mc_true_low,bins=(len(classes),len(classes)),range=((1,len(classes)),(1,len(classes))))\n",
    "absolute_high, xe_high,ye_high = np.histogram2d(np.argmax(pred_high, axis=1)+1,mc_true_high,bins=(len(classes),len(classes)),range=((1,len(classes)),(1,len(classes))))\n",
    "res_true_low = absolute_low/np.sum(absolute_low,axis=0)\n",
    "res_true_high = absolute_high/np.sum(absolute_high,axis=0)\n",
    "res_pred_low = absolute_low/np.sum(absolute_low,axis=1).reshape(-1,1)\n",
    "res_pred_high = absolute_high/np.sum(absolute_high,axis=1).reshape(-1,1)\n"
   ]
  },
  {
   "cell_type": "markdown",
   "metadata": {},
   "source": [
    "## Summary plot"
   ]
  },
  {
   "cell_type": "code",
   "execution_count": 11,
   "metadata": {},
   "outputs": [
    {
     "name": "stderr",
     "output_type": "stream",
     "text": [
      "/home/ga38tul/.local/lib/python2.7/site-packages/ipykernel_launcher.py:18: RuntimeWarning: invalid value encountered in log10\n",
      "/home/ga38tul/.local/lib/python2.7/site-packages/ipykernel_launcher.py:19: RuntimeWarning: invalid value encountered in log10\n"
     ]
    },
    {
     "ename": "ValueError",
     "evalue": "range parameter must be finite.",
     "output_type": "error",
     "traceback": [
      "\u001b[0;31m\u001b[0m",
      "\u001b[0;31mValueError\u001b[0mTraceback (most recent call last)",
      "\u001b[0;32m<ipython-input-11-afc9f4de6e45>\u001b[0m in \u001b[0;36m<module>\u001b[0;34m()\u001b[0m\n\u001b[1;32m     14\u001b[0m \u001b[0;34m\u001b[0m\u001b[0m\n\u001b[1;32m     15\u001b[0m \u001b[0max2\u001b[0m \u001b[0;34m=\u001b[0m \u001b[0mplt\u001b[0m\u001b[0;34m.\u001b[0m\u001b[0msubplot2grid\u001b[0m\u001b[0;34m(\u001b[0m\u001b[0;34m(\u001b[0m\u001b[0;36m6\u001b[0m\u001b[0;34m,\u001b[0m \u001b[0;36m2\u001b[0m\u001b[0;34m)\u001b[0m\u001b[0;34m,\u001b[0m \u001b[0;34m(\u001b[0m\u001b[0;36m1\u001b[0m\u001b[0;34m,\u001b[0m \u001b[0;36m0\u001b[0m\u001b[0;34m)\u001b[0m\u001b[0;34m)\u001b[0m\u001b[0;34m\u001b[0m\u001b[0m\n\u001b[0;32m---> 16\u001b[0;31m \u001b[0max2\u001b[0m \u001b[0;34m=\u001b[0m \u001b[0macc_vs_energy_plot\u001b[0m\u001b[0;34m(\u001b[0m\u001b[0mpred_for_Cascade\u001b[0m\u001b[0;34m,\u001b[0m \u001b[0;36m1\u001b[0m\u001b[0;34m,\u001b[0m \u001b[0mE_for_Cascade\u001b[0m\u001b[0;34m,\u001b[0m \u001b[0;34m\"Accuracy vs. Energy for class Cascade\"\u001b[0m\u001b[0;34m,\u001b[0m \u001b[0mbinnumber\u001b[0m\u001b[0;34m)\u001b[0m\u001b[0;34m\u001b[0m\u001b[0m\n\u001b[0m\u001b[1;32m     17\u001b[0m \u001b[0;34m\u001b[0m\u001b[0m\n\u001b[1;32m     18\u001b[0m \u001b[0max3\u001b[0m \u001b[0;34m=\u001b[0m \u001b[0mplt\u001b[0m\u001b[0;34m.\u001b[0m\u001b[0msubplot2grid\u001b[0m\u001b[0;34m(\u001b[0m\u001b[0;34m(\u001b[0m\u001b[0;36m6\u001b[0m\u001b[0;34m,\u001b[0m \u001b[0;36m2\u001b[0m\u001b[0;34m)\u001b[0m\u001b[0;34m,\u001b[0m \u001b[0;34m(\u001b[0m\u001b[0;36m1\u001b[0m\u001b[0;34m,\u001b[0m \u001b[0;36m1\u001b[0m\u001b[0;34m)\u001b[0m\u001b[0;34m)\u001b[0m\u001b[0;34m\u001b[0m\u001b[0m\n",
      "\u001b[0;32m<ipython-input-8-c57e1d3dfcb2>\u001b[0m in \u001b[0;36macc_vs_energy_plot\u001b[0;34m(pred, true, energy, title, binnumber)\u001b[0m\n\u001b[1;32m     17\u001b[0m \u001b[0;34m\u001b[0m\u001b[0m\n\u001b[1;32m     18\u001b[0m     \u001b[0mbins\u001b[0m \u001b[0;34m=\u001b[0m \u001b[0mnp\u001b[0m\u001b[0;34m.\u001b[0m\u001b[0mlinspace\u001b[0m\u001b[0;34m(\u001b[0m\u001b[0mnp\u001b[0m\u001b[0;34m.\u001b[0m\u001b[0mmin\u001b[0m\u001b[0;34m(\u001b[0m\u001b[0mnp\u001b[0m\u001b[0;34m.\u001b[0m\u001b[0mlog10\u001b[0m\u001b[0;34m(\u001b[0m\u001b[0menergy\u001b[0m\u001b[0;34m)\u001b[0m\u001b[0;34m)\u001b[0m\u001b[0;34m,\u001b[0m \u001b[0mnp\u001b[0m\u001b[0;34m.\u001b[0m\u001b[0mmax\u001b[0m\u001b[0;34m(\u001b[0m\u001b[0mnp\u001b[0m\u001b[0;34m.\u001b[0m\u001b[0mlog10\u001b[0m\u001b[0;34m(\u001b[0m\u001b[0menergy\u001b[0m\u001b[0;34m)\u001b[0m\u001b[0;34m)\u001b[0m\u001b[0;34m,\u001b[0m \u001b[0mbinnumber\u001b[0m\u001b[0;34m)\u001b[0m\u001b[0;34m\u001b[0m\u001b[0m\n\u001b[0;32m---> 19\u001b[0;31m     \u001b[0mvalsTrue\u001b[0m \u001b[0;34m=\u001b[0m \u001b[0mnp\u001b[0m\u001b[0;34m.\u001b[0m\u001b[0mhistogram\u001b[0m\u001b[0;34m(\u001b[0m\u001b[0mnp\u001b[0m\u001b[0;34m.\u001b[0m\u001b[0mlog10\u001b[0m\u001b[0;34m(\u001b[0m\u001b[0menergy\u001b[0m\u001b[0;34m)\u001b[0m\u001b[0;34m,\u001b[0m \u001b[0mweights\u001b[0m\u001b[0;34m=\u001b[0m\u001b[0mwas_NN_right\u001b[0m\u001b[0;34m,\u001b[0m \u001b[0mbins\u001b[0m\u001b[0;34m=\u001b[0m\u001b[0mbins\u001b[0m\u001b[0;34m)\u001b[0m\u001b[0;34m[\u001b[0m\u001b[0;36m0\u001b[0m\u001b[0;34m]\u001b[0m\u001b[0;34m\u001b[0m\u001b[0m\n\u001b[0m\u001b[1;32m     20\u001b[0m     \u001b[0mvalsAll\u001b[0m \u001b[0;34m=\u001b[0m \u001b[0mnp\u001b[0m\u001b[0;34m.\u001b[0m\u001b[0mhistogram\u001b[0m\u001b[0;34m(\u001b[0m\u001b[0mnp\u001b[0m\u001b[0;34m.\u001b[0m\u001b[0mlog10\u001b[0m\u001b[0;34m(\u001b[0m\u001b[0menergy\u001b[0m\u001b[0;34m)\u001b[0m\u001b[0;34m,\u001b[0m \u001b[0mbins\u001b[0m\u001b[0;34m=\u001b[0m\u001b[0mbins\u001b[0m\u001b[0;34m)\u001b[0m\u001b[0;34m[\u001b[0m\u001b[0;36m0\u001b[0m\u001b[0;34m]\u001b[0m\u001b[0;34m\u001b[0m\u001b[0m\n\u001b[1;32m     21\u001b[0m     \u001b[0macc\u001b[0m \u001b[0;34m=\u001b[0m \u001b[0;36m1.\u001b[0m\u001b[0;34m*\u001b[0m\u001b[0mvalsTrue\u001b[0m\u001b[0;34m/\u001b[0m\u001b[0mvalsAll\u001b[0m\u001b[0;34m\u001b[0m\u001b[0m\n",
      "\u001b[0;32m/home/ga38tul/.local/lib/python2.7/site-packages/numpy/lib/function_base.pyc\u001b[0m in \u001b[0;36mhistogram\u001b[0;34m(a, bins, range, normed, weights, density)\u001b[0m\n\u001b[1;32m    668\u001b[0m     \u001b[0;32mif\u001b[0m \u001b[0;32mnot\u001b[0m \u001b[0mnp\u001b[0m\u001b[0;34m.\u001b[0m\u001b[0mall\u001b[0m\u001b[0;34m(\u001b[0m\u001b[0mnp\u001b[0m\u001b[0;34m.\u001b[0m\u001b[0misfinite\u001b[0m\u001b[0;34m(\u001b[0m\u001b[0;34m[\u001b[0m\u001b[0mmn\u001b[0m\u001b[0;34m,\u001b[0m \u001b[0mmx\u001b[0m\u001b[0;34m]\u001b[0m\u001b[0;34m)\u001b[0m\u001b[0;34m)\u001b[0m\u001b[0;34m:\u001b[0m\u001b[0;34m\u001b[0m\u001b[0m\n\u001b[1;32m    669\u001b[0m         raise ValueError(\n\u001b[0;32m--> 670\u001b[0;31m             'range parameter must be finite.')\n\u001b[0m\u001b[1;32m    671\u001b[0m     \u001b[0;32mif\u001b[0m \u001b[0mmn\u001b[0m \u001b[0;34m==\u001b[0m \u001b[0mmx\u001b[0m\u001b[0;34m:\u001b[0m\u001b[0;34m\u001b[0m\u001b[0m\n\u001b[1;32m    672\u001b[0m         \u001b[0mmn\u001b[0m \u001b[0;34m-=\u001b[0m \u001b[0;36m0.5\u001b[0m\u001b[0;34m\u001b[0m\u001b[0m\n",
      "\u001b[0;31mValueError\u001b[0m: range parameter must be finite."
     ]
    },
    {
     "data": {
      "image/png": "[encoded data removed]",
      "text/plain": [
       "<matplotlib.figure.Figure at 0x26d3190>"
      ]
     },
     "metadata": {},
     "output_type": "display_data"
    }
   ],
   "source": [
    "binnumber = 30\n",
    "fig = plt.figure(figsize=(18,28))\n",
    "ax1 = plt.subplot2grid((6, 2), (0, 0), colspan=2)\n",
    "x = np.linspace(1, len(epochs_acc_loss[0]), num=len(epochs_acc_loss[0]), endpoint=True)\n",
    "ax1.plot(x, epochs_acc_loss[1], color='red', label=\"acc of the training set\")\n",
    "ax1.plot(x, epochs_acc_loss[2], color='blue', label=\"loss of the training set\")\n",
    "ax1.plot(x, epochs_acc_loss[3], color='orange', label=\"acc of the validation set\")\n",
    "ax1.plot(x, epochs_acc_loss[4], color='green', label=\"loss of the validation set\")\n",
    "ax1.legend(bbox_to_anchor=(0.855, 0.97), loc=2, borderaxespad=0.)\n",
    "ax1.set_title(\"Accuracy & loss during epochs\")\n",
    "ax1.set_xlabel('epochs')\n",
    "ax1.set_ylabel('loss & accuracy')\n",
    "ax1.set_ylim(0., 1.1)\n",
    "\n",
    "ax2 = plt.subplot2grid((6, 2), (1, 0))\n",
    "ax2 = acc_vs_energy_plot(pred_for_Cascade, 1, E_for_Cascade, \"Accuracy vs. Energy for class Cascade\", binnumber)\n",
    "\n",
    "ax3 = plt.subplot2grid((6, 2), (1, 1))\n",
    "ax3 = acc_vs_energy_plot(pred_for_Track, 2, E_for_Track, \"Accuracy vs. Energy for class Track\", binnumber)\n",
    "\n",
    "ax4 = plt.subplot2grid((6, 2), (2, 0))\n",
    "bins = np.linspace(np.min(np.log10(E_for_Cascade)), np.max(np.log10(E_for_Cascade)), binnumber)\n",
    "valsAll = np.histogram(np.log10(E_for_Cascade), bins=bins)[0]\n",
    "ax4.semilogy(bins[:-1], valsAll)\n",
    "ax4.set_title(\"Statistic of Cascades vs. Energy\")\n",
    "ax4.set_xlabel('log_10(E/GeV)')\n",
    "ax4.set_ylabel('amount of events')\n",
    "\n",
    "ax5 = plt.subplot2grid((6, 2), (2, 1))\n",
    "bins = np.linspace(np.min(np.log10(E_for_Track)), np.max(np.log10(E_for_Track)), binnumber)\n",
    "valsAll = np.histogram(np.log10(E_for_Track), bins=bins)[0]\n",
    "ax5.semilogy(bins[:-1], valsAll)\n",
    "ax5.set_title(\"Statistic of Tracks vs. Energy\")\n",
    "ax5.set_xlabel('log_10(E/GeV)')\n",
    "ax5.set_ylabel('amount of events')\n",
    "\n",
    "\n",
    "ax6 = plt.subplot2grid((6, 2), (3, 0))\n",
    "plot_confusion_matrix(res_true, classes=classes, title='Confusion matrix normalized on MCTruth')\n",
    "\n",
    "ax7 = plt.subplot2grid((6, 2), (3, 1))\n",
    "plot_confusion_matrix(res_pred, classes=classes, title='Confusion matrix normalized on Predictions')\n",
    "\n",
    "ax8 = plt.subplot2grid((6, 2), (4, 0))\n",
    "plot_confusion_matrix(res_true_low, classes=classes, title='Confusion matrix normalized on MCTruth; Energy range: [<{} GeV]'.format(cutoff))\n",
    "\n",
    "ax9 = plt.subplot2grid((6, 2), (4, 1))\n",
    "plot_confusion_matrix(res_pred_low, classes=classes, title='Confusion matrix normalized on Predictions; Energy range: [<{} GeV]'.format(cutoff))\n",
    "\n",
    "ax10 = plt.subplot2grid((6, 2), (5, 0))\n",
    "plot_confusion_matrix(res_true_high, classes=classes, title='Confusion matrix normalized on MCTruth; Energy range: [>{} GeV]'.format(cutoff))\n",
    "\n",
    "ax11 = plt.subplot2grid((6, 2), (5, 1))\n",
    "plot_confusion_matrix(res_pred_high, classes=classes, title='Confusion matrix normalized on Predictions; Energy range: [>{} GeV]'.format(cutoff))\n",
    "\n",
    "plt.tight_layout()\n",
    "plt.show()\n",
    "\n",
    "# save the above figure to the corresponding NN folder\n",
    "fig.savefig(os.path.join(DATA_DIR, 'summary.pdf'))"
   ]
  },
  {
   "cell_type": "code",
   "execution_count": null,
   "metadata": {},
   "outputs": [],
   "source": []
  },
  {
   "cell_type": "code",
   "execution_count": null,
   "metadata": {},
   "outputs": [],
   "source": []
  },
  {
   "cell_type": "code",
   "execution_count": null,
   "metadata": {},
   "outputs": [],
   "source": []
  }
 ],
 "metadata": {
  "kernelspec": {
   "display_name": "Python 2",
   "language": "python",
   "name": "python2"
  },
  "language_info": {
   "codemirror_mode": {
    "name": "ipython",
    "version": 2
   },
   "file_extension": ".py",
   "mimetype": "text/x-python",
   "name": "python",
   "nbconvert_exporter": "python",
   "pygments_lexer": "ipython2",
   "version": "2.7.5"
  }
 },
 "nbformat": 4,
 "nbformat_minor": 2
}
