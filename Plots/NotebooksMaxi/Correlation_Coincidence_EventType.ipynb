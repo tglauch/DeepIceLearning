{
 "cells": [
  {
   "cell_type": "code",
   "execution_count": 1,
   "metadata": {},
   "outputs": [],
   "source": [
    "import numpy as np\n",
    "import pickle\n",
    "import os"
   ]
  },
  {
   "cell_type": "code",
   "execution_count": 2,
   "metadata": {},
   "outputs": [],
   "source": [
    "DATA_DIR = \"/scratch9/mkron/data/NN_out/run66/\"\n",
    "predictions_mctrue = pickle.load(file(os.path.join(DATA_DIR, 'prediction.pickle')))\n"
   ]
  },
  {
   "cell_type": "code",
   "execution_count": 3,
   "metadata": {},
   "outputs": [],
   "source": [
    "pred_label_1 = predictions_mctrue[\"prediction\"][0] #list with probability for each class\n",
    "true_label_1 = predictions_mctrue[\"mc_truth\"][\"ClassificationLabel_truth\"][:len(pred_label_1)]-1"
   ]
  },
  {
   "cell_type": "code",
   "execution_count": 4,
   "metadata": {},
   "outputs": [],
   "source": [
    "pred_label_3 = predictions_mctrue[\"prediction\"][2] #list with probability for each class\n",
    "true_label_3 = predictions_mctrue[\"mc_truth\"][\"CoincidenceLabel_truth\"][:len(pred_label_3)]"
   ]
  },
  {
   "cell_type": "code",
   "execution_count": 5,
   "metadata": {},
   "outputs": [],
   "source": [
    "def influence_Label_on_Event_Type(target_number):\n",
    "    \n",
    "    if target_number == 1:\n",
    "        key = (\"StartingLabel_truth\", \"a Starting Event\", \"a through-going Event\")\n",
    "    elif target_number == 2:\n",
    "        key = (\"CoincidenceLabel_truth\", \"a Coincidence\", \"NO Coincidence\")\n",
    "    elif target_number == 3:\n",
    "        key = (\"UpDownLabel_truth\", \"a UP-going Event\", \"a DOWN-going Event\")\n",
    "    else:\n",
    "        print \"ERROR target_number out of range\"\n",
    "    \n",
    "    pred_label_1 = predictions_mctrue[\"prediction\"][0] #list with probability for each class\n",
    "    true_label_1 = predictions_mctrue[\"mc_truth\"][\"ClassificationLabel_truth\"][:len(pred_label_1)]-1\n",
    "    \n",
    "    pred_label_3 = predictions_mctrue[\"prediction\"][target_number] #list with probability for each class\n",
    "    true_label_3 = predictions_mctrue[\"mc_truth\"][key[0]][:len(pred_label_3)]\n",
    "    \n",
    "    coincidence_pred_label_1 = pred_label_1[true_label_3 == 1]\n",
    "    coincidence_true_label_1 = true_label_1[true_label_3 == 1]\n",
    "\n",
    "    noCo_pred_label_1 = pred_label_1[true_label_3 == 0]\n",
    "    noCo_true_label_1 = true_label_1[true_label_3 == 0]\n",
    "\n",
    "    e = 0\n",
    "    f = 0\n",
    "    for i in xrange(len(coincidence_true_label_1)):\n",
    "        if np.argmax(coincidence_pred_label_1[i]) == coincidence_true_label_1[i]:\n",
    "            e +=1\n",
    "        else:\n",
    "            f +=1\n",
    "    \n",
    "    print \"Acc of NN if we have {}\".format(key[1])\n",
    "    print \"NN is right in {}%\".format(1.*e/len(coincidence_true_label_1)*100)\n",
    "    print \"NN is wrong in {}%\".format(1.*f/len(coincidence_true_label_1)*100)\n",
    "    print \"\\n\"\n",
    "   \n",
    "\n",
    "    g = 0\n",
    "    h = 0\n",
    "    for i in xrange(len(noCo_true_label_1)):\n",
    "        if np.argmax(noCo_pred_label_1[i]) == noCo_true_label_1[i]:\n",
    "            g +=1\n",
    "        else:\n",
    "            h +=1\n",
    "            \n",
    "    print \"Acc of NN if we have {}\".format(key[2])\n",
    "    print \"NN is right in {}%\".format(1.*g/len(noCo_true_label_1)*100)\n",
    "    print \"NN is wrong in {}%\".format(1.*h/len(noCo_true_label_1)*100)\n",
    "            \n",
    "\n",
    "    "
   ]
  },
  {
   "cell_type": "code",
   "execution_count": 6,
   "metadata": {},
   "outputs": [
    {
     "name": "stdout",
     "output_type": "stream",
     "text": [
      "Acc of NN if we have a Starting Event\n",
      "NN is right in 81.2419030601%\n",
      "NN is wrong in 18.7580969399%\n",
      "\n",
      "\n",
      "Acc of NN if we have a through-going Event\n",
      "NN is right in 75.2893143742%\n",
      "NN is wrong in 24.7106856258%\n"
     ]
    }
   ],
   "source": [
    "influence_Label_on_Event_Type(1)"
   ]
  },
  {
   "cell_type": "code",
   "execution_count": 7,
   "metadata": {},
   "outputs": [
    {
     "name": "stdout",
     "output_type": "stream",
     "text": [
      "Acc of NN if we have a Coincidence\n",
      "NN is right in 65.9139294404%\n",
      "NN is wrong in 34.0860705596%\n",
      "\n",
      "\n",
      "Acc of NN if we have NO Coincidence\n",
      "NN is right in 81.0226155359%\n",
      "NN is wrong in 18.9773844641%\n"
     ]
    }
   ],
   "source": [
    "influence_Label_on_Event_Type(2)"
   ]
  },
  {
   "cell_type": "code",
   "execution_count": 8,
   "metadata": {},
   "outputs": [
    {
     "name": "stdout",
     "output_type": "stream",
     "text": [
      "Acc of NN if we have a UP-going Event\n",
      "NN is right in 76.7553349455%\n",
      "NN is wrong in 23.2446650545%\n",
      "\n",
      "\n",
      "Acc of NN if we have a DOWN-going Event\n",
      "NN is right in 78.1642343208%\n",
      "NN is wrong in 21.8357656792%\n"
     ]
    }
   ],
   "source": [
    "influence_Label_on_Event_Type(3)"
   ]
  },
  {
   "cell_type": "code",
   "execution_count": null,
   "metadata": {},
   "outputs": [],
   "source": []
  },
  {
   "cell_type": "code",
   "execution_count": null,
   "metadata": {},
   "outputs": [],
   "source": []
  }
 ],
 "metadata": {
  "kernelspec": {
   "display_name": "Python 2",
   "language": "python",
   "name": "python2"
  },
  "language_info": {
   "codemirror_mode": {
    "name": "ipython",
    "version": 2
   },
   "file_extension": ".py",
   "mimetype": "text/x-python",
   "name": "python",
   "nbconvert_exporter": "python",
   "pygments_lexer": "ipython2",
   "version": "2.7.5"
  }
 },
 "nbformat": 4,
 "nbformat_minor": 2
}
