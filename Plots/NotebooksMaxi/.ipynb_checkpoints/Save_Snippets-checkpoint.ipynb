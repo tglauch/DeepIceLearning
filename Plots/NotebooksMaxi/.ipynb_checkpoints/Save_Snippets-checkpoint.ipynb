{
 "cells": [
  {
   "cell_type": "markdown",
   "metadata": {},
   "source": [
    "### Histogramm of several files"
   ]
  },
  {
   "cell_type": "code",
   "execution_count": null,
   "metadata": {},
   "outputs": [],
   "source": [
    "binnumber = 100\n",
    "ibins = np.linspace(0,7,binnumber)\n",
    "for i in [1,2,3]:\n",
    "    vals_sum = np.array((binnumber-1,))\n",
    "    for current_file in file_list:\n",
    "        try:\n",
    "            file = h5py.File(os.path.join(DATA_DIR, current_file), \"r\")\n",
    "        except Exception:\n",
    "            print \"File {} failed\".format(current_file) \n",
    "            break\n",
    "        \n",
    "        energy = file[\"reco_vals\"]['depositedE']\n",
    "        true_energy = file[\"reco_vals\"][\"energyFirstParticle\"]\n",
    "        mc_true = file[\"reco_vals\"][\"classificationTag\"]\n",
    "        vals, bins = np.histogram(np.log10(true_energy[mc_true == i]), bins=ibins)\n",
    "        vals_sum = vals_sum + vals\n",
    "        file.close()\n",
    "    plt.semilogy(bins[:-1], vals_sum, drawstyle='steps-pre', label=i)\n",
    "\n",
    "plt.legend(loc='best')\n",
    "plt.title(\"Energy distribution of the 3 different Classes of {} HDFs\".format(len(file_list)))\n",
    "plt.xlabel('log(Energy) [GeV]')\n",
    "plt.ylabel('Counts')\n",
    "plt.show()\n"
   ]
  },
  {
   "cell_type": "code",
   "execution_count": null,
   "metadata": {},
   "outputs": [],
   "source": []
  }
 ],
 "metadata": {
  "kernelspec": {
   "display_name": "Python 2",
   "language": "python",
   "name": "python2"
  },
  "language_info": {
   "codemirror_mode": {
    "name": "ipython",
    "version": 2
   },
   "file_extension": ".py",
   "mimetype": "text/x-python",
   "name": "python",
   "nbconvert_exporter": "python",
   "pygments_lexer": "ipython2",
   "version": "2.7.5"
  }
 },
 "nbformat": 4,
 "nbformat_minor": 2
}
