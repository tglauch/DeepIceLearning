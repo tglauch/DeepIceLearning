{
 "cells": [
  {
   "cell_type": "markdown",
   "metadata": {},
   "source": [
    "# Study of the single Input Features"
   ]
  },
  {
   "cell_type": "code",
   "execution_count": 2,
   "metadata": {},
   "outputs": [],
   "source": [
    "%matplotlib inline\n",
    "import numpy as np\n",
    "import os\n",
    "import matplotlib.pyplot as plt\n",
    "import h5py\n",
    "import tables\n",
    "#import matplotlib.patches as mpatches\n",
    "#from matplotlib import gridspec"
   ]
  },
  {
   "cell_type": "markdown",
   "metadata": {},
   "source": [
    "#### at the moment we study the features acording to one hdf file"
   ]
  },
  {
   "cell_type": "code",
   "execution_count": 3,
   "metadata": {},
   "outputs": [],
   "source": [
    "DATA_DIR = \"/scratch9/mkron/data/training_data/second_dataset\"\n",
    "current_file = \"File_0.h5\"\n",
    "file = h5py.File(os.path.join(DATA_DIR, current_file), \"r\")"
   ]
  },
  {
   "cell_type": "code",
   "execution_count": 4,
   "metadata": {},
   "outputs": [
    {
     "data": {
      "text/plain": [
       "[u'av_time_charges',\n",
       " u'charge',\n",
       " u'charge_100ns',\n",
       " u'charge_500ns',\n",
       " u'first_charge',\n",
       " u'num_pulses',\n",
       " u'reco_vals',\n",
       " u'time',\n",
       " u'time_20pct',\n",
       " u'time_50pct',\n",
       " u'time_kurtosis',\n",
       " u'time_moment_2',\n",
       " u'time_quartercharge',\n",
       " u'time_spread']"
      ]
     },
     "execution_count": 4,
     "metadata": {},
     "output_type": "execute_result"
    }
   ],
   "source": [
    "file.keys()"
   ]
  },
  {
   "cell_type": "code",
   "execution_count": 5,
   "metadata": {},
   "outputs": [],
   "source": [
    "depositedE = file[\"reco_vals\"][\"depositedE\"]"
   ]
  },
  {
   "cell_type": "markdown",
   "metadata": {},
   "source": [
    "## Input of Branch \"Total deposited Energy of one event\" (1D)"
   ]
  },
  {
   "cell_type": "code",
   "execution_count": 6,
   "metadata": {},
   "outputs": [],
   "source": [
    "# charge as saved in HDF file\n",
    "# sum of charge per DOM\n",
    "charge = file[\"charge\"] # one element, like file[\"charge\"][i], is given the network as input\n",
    "#charge = charge[:20000]"
   ]
  },
  {
   "cell_type": "code",
   "execution_count": 7,
   "metadata": {},
   "outputs": [],
   "source": [
    "# In an additional branch we input the sum of deposited energy to counter the normalization\n",
    "total_charge_event = np.sum(np.sum(np.sum(charge, axis=1), axis=1), axis=1)"
   ]
  },
  {
   "cell_type": "code",
   "execution_count": 8,
   "metadata": {},
   "outputs": [
    {
     "data": {
      "image/png": "[encoded data removed]",
      "text/plain": [
       "<matplotlib.figure.Figure at 0x3c5c3d0>"
      ]
     },
     "metadata": {},
     "output_type": "display_data"
    }
   ],
   "source": [
    "# histogramm of total charge of the data\n",
    "binnumber = 100\n",
    "\n",
    "fig = plt.figure(figsize=(12,6))\n",
    "ax1 = plt.subplot2grid((1, 2), (0, 0))\n",
    "ibins = np.linspace(0,np.max(total_charge_event),binnumber)\n",
    "vals, bins = np.histogram(total_charge_event, bins=ibins)\n",
    "ax1.semilogy(bins[:-1], vals , drawstyle='steps-pre')\n",
    "ax1.set_title(\"Deposited Energy distibution, Values as saved\")\n",
    "ax1.set_xlabel('deposited energy [GeV]')\n",
    "ax1.set_ylabel('counts')\n",
    "\n",
    "\n",
    "ax2 = plt.subplot2grid((1, 2), (0, 1))\n",
    "ibins_log = np.linspace(0,11,binnumber)\n",
    "vals_log, bins_log = np.histogram(np.log(total_charge_event), bins=ibins_log)\n",
    "ax2.plot(bins_log[:-1], vals_log , drawstyle='steps-pre')\n",
    "ax2.set_title(\"Deposited Energy distibution, Values in log scale\")\n",
    "ax2.set_xlabel('log(deposited energy) [GeV]')\n",
    "ax2.set_ylabel('counts')\n",
    "\n",
    "plt.title(\"Deposited energy distribution of all events in hdf\")\n",
    "plt.tight_layout()\n",
    "plt.show()"
   ]
  },
  {
   "cell_type": "markdown",
   "metadata": {},
   "source": [
    "#### -> we should transform the input with a log"
   ]
  },
  {
   "cell_type": "markdown",
   "metadata": {},
   "source": [
    "## Input of Branch \"Time Spread of one event\" (1D)"
   ]
  },
  {
   "cell_type": "code",
   "execution_count": 3,
   "metadata": {},
   "outputs": [],
   "source": [
    "# time as saved in HDF file\n",
    "time = file[\"time\"] # one element, like file[\"time\"][i], is given the network as input\n",
    "time = time[:20000]"
   ]
  },
  {
   "cell_type": "code",
   "execution_count": 4,
   "metadata": {},
   "outputs": [],
   "source": [
    "# calculate the time spread of one event\n",
    "time_spread_event= []\n",
    "for i in xrange(len(time)):\n",
    "    x = time[i]\n",
    "    delta = np.log(np.max(x)-np.min(x))\n",
    "    time_spread_event.append(delta)"
   ]
  },
  {
   "cell_type": "code",
   "execution_count": 5,
   "metadata": {},
   "outputs": [
    {
     "name": "stdout",
     "output_type": "stream",
     "text": [
      "11.2110903761\n",
      "9.33547410273\n"
     ]
    }
   ],
   "source": [
    "print np.max(time_spread_event)\n",
    "print np.min(time_spread_event)"
   ]
  },
  {
   "cell_type": "code",
   "execution_count": 8,
   "metadata": {},
   "outputs": [
    {
     "name": "stdout",
     "output_type": "stream",
     "text": [
      "[   26  5279 11858  1101   598    14   120   305   423   276]\n"
     ]
    },
    {
     "data": {
      "text/plain": [
       "[<matplotlib.lines.Line2D at 0x67d2310>]"
      ]
     },
     "execution_count": 8,
     "metadata": {},
     "output_type": "execute_result"
    },
    {
     "data": {
      "image/png": "[encoded data removed]",
      "text/plain": [
       "<matplotlib.figure.Figure at 0x45d2dd0>"
      ]
     },
     "metadata": {},
     "output_type": "display_data"
    }
   ],
   "source": [
    "#ibins = np.linspace(0,np.max(total_charge),binnumber)\n",
    "vals, bins = np.histogram(np.log(time_spread_event)) #, bins=ibins)\n",
    "print vals\n",
    "plt.plot(bins[:-1], vals , drawstyle='steps-pre')\n"
   ]
  },
  {
   "cell_type": "code",
   "execution_count": 11,
   "metadata": {},
   "outputs": [
    {
     "data": {
      "text/plain": [
       "4.6051701859880918"
      ]
     },
     "execution_count": 11,
     "metadata": {},
     "output_type": "execute_result"
    }
   ],
   "source": [
    "np.log(100)"
   ]
  },
  {
   "cell_type": "code",
   "execution_count": null,
   "metadata": {},
   "outputs": [],
   "source": []
  },
  {
   "cell_type": "code",
   "execution_count": null,
   "metadata": {},
   "outputs": [],
   "source": []
  },
  {
   "cell_type": "code",
   "execution_count": null,
   "metadata": {},
   "outputs": [],
   "source": [
    "time_spread = file[\"time_spread\"]\n",
    "time_spread.shape"
   ]
  },
  {
   "cell_type": "code",
   "execution_count": null,
   "metadata": {},
   "outputs": [],
   "source": [
    "len(file[\"charge\"][:20])\n",
    "x= np.sum(file[\"charge\"][0])\n",
    "print x\n",
    "y = np.sum(file[\"charge\"][:20], axis=1)\n",
    "print y[0]\n",
    "print len(y)"
   ]
  },
  {
   "cell_type": "markdown",
   "metadata": {},
   "source": [
    "### num_pulses"
   ]
  },
  {
   "cell_type": "code",
   "execution_count": 61,
   "metadata": {},
   "outputs": [],
   "source": [
    "pulses = file[\"num_pulses\"]\n",
    "pulses_of_event = pulses[4]\n",
    "list_pulses_of_event = pulses_of_event.reshape(1,-1)[0]"
   ]
  },
  {
   "cell_type": "code",
   "execution_count": 62,
   "metadata": {},
   "outputs": [
    {
     "data": {
      "text/plain": [
       "4"
      ]
     },
     "execution_count": 62,
     "metadata": {},
     "output_type": "execute_result"
    }
   ],
   "source": [
    "int(np.max(list_pulses_of_event))"
   ]
  },
  {
   "cell_type": "code",
   "execution_count": 63,
   "metadata": {},
   "outputs": [
    {
     "data": {
      "text/plain": [
       "43"
      ]
     },
     "execution_count": 63,
     "metadata": {},
     "output_type": "execute_result"
    }
   ],
   "source": [
    "# values that are not 0\n",
    "biggerZero= list_pulses_of_event[list_pulses_of_event >0]\n",
    "len(biggerZero)"
   ]
  },
  {
   "cell_type": "code",
   "execution_count": 64,
   "metadata": {},
   "outputs": [
    {
     "name": "stdout",
     "output_type": "stream",
     "text": [
      "[38  4  0  1]\n"
     ]
    }
   ],
   "source": [
    "vals, bins = np.histogram(biggerZero, bins= int(np.max(list_pulses_of_event)))\n",
    "print vals\n",
    "#plt.plot(bins[:-1], vals)\n",
    "\n"
   ]
  },
  {
   "cell_type": "code",
   "execution_count": null,
   "metadata": {},
   "outputs": [],
   "source": []
  }
 ],
 "metadata": {
  "kernelspec": {
   "display_name": "Python 2",
   "language": "python",
   "name": "python2"
  },
  "language_info": {
   "codemirror_mode": {
    "name": "ipython",
    "version": 2
   },
   "file_extension": ".py",
   "mimetype": "text/x-python",
   "name": "python",
   "nbconvert_exporter": "python",
   "pygments_lexer": "ipython2",
   "version": "2.7.5"
  }
 },
 "nbformat": 4,
 "nbformat_minor": 2
}
