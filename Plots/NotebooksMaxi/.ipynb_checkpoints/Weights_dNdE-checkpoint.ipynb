{
 "cells": [
  {
   "cell_type": "code",
   "execution_count": 23,
   "metadata": {},
   "outputs": [],
   "source": [
    "import numpy as np\n",
    "import os\n",
    "\n",
    "%matplotlib inline\n",
    "import matplotlib.pyplot as plt\n",
    "\n",
    "import h5py\n",
    "import tables"
   ]
  },
  {
   "cell_type": "code",
   "execution_count": 24,
   "metadata": {},
   "outputs": [],
   "source": [
    "file_name = \"/scratch9/mkron/data/training_data/second_dataset/File_1.h5\"\n",
    "if os.path.exists(file_name):\n",
    "    file = h5py.File(file_name, \"r+\")\n",
    "else:\n",
    "    print \"File does not exist\""
   ]
  },
  {
   "cell_type": "markdown",
   "metadata": {},
   "source": [
    "#### Clculate dN/dE"
   ]
  },
  {
   "cell_type": "code",
   "execution_count": 33,
   "metadata": {},
   "outputs": [],
   "source": [
    "# claculation of the histogramm for each class\n",
    "deposited_energy = file[\"reco_vals\"][\"depositedE\"]\n",
    "classification = file[\"reco_vals\"][\"ClassificationLabel\"]\n",
    "binnumber = 100\n",
    "\n",
    "\n",
    "ibins = np.linspace(0,8,binnumber)\n",
    "vals_1, bins_1 = np.histogram(np.log10(deposited_energy[classification == 1.0]), bins=ibins)\n",
    "vals_2, bins_2 = np.histogram(np.log10(deposited_energy[classification == 2.0]), bins=ibins)\n",
    "vals_3, bins_3 = np.histogram(np.log10(deposited_energy[classification == 3.0]), bins=ibins)\n",
    "\n",
    "#ibins = np.linspace(0,100000000,binnumber)\n",
    "#vals_1, bins_1 = np.histogram(deposited_energy[classification == 1.0], bins=ibins)\n",
    "#vals_2, bins_2 = np.histogram(deposited_energy[classification == 2.0], bins=ibins)\n",
    "#vals_3, bins_3 = np.histogram(deposited_energy[classification == 3.0], bins=ibins)\n"
   ]
  },
  {
   "cell_type": "code",
   "execution_count": 35,
   "metadata": {},
   "outputs": [
    {
     "data": {
      "image/png": "[encoded data removed]",
      "text/plain": [
       "<matplotlib.figure.Figure at 0x60ace90>"
      ]
     },
     "metadata": {},
     "output_type": "display_data"
    }
   ],
   "source": [
    "plt.semilogy(bins_1[:-1], vals_1, drawstyle='steps-pre', label=1)\n",
    "plt.semilogy(bins_2[:-1], vals_2, drawstyle='steps-pre', label=2)\n",
    "plt.semilogy(bins_3[:-1], vals_3, drawstyle='steps-pre', label=3)\n",
    "plt.show()"
   ]
  },
  {
   "cell_type": "code",
   "execution_count": 44,
   "metadata": {},
   "outputs": [
    {
     "name": "stdout",
     "output_type": "stream",
     "text": [
      "49832562.1646\n",
      "3.0\n"
     ]
    }
   ],
   "source": [
    "# Event caracteristics\n",
    "i = 15\n",
    "deposited_energy_event = file[\"reco_vals\"][\"depositedE\"][i]\n",
    "classification_event = file[\"reco_vals\"][\"ClassificationLabel\"][i]\n",
    "print deposited_energy_event\n",
    "print classification_event\n",
    "deposited_energy_event = np.log10(deposited_energy_event)"
   ]
  },
  {
   "cell_type": "code",
   "execution_count": 46,
   "metadata": {},
   "outputs": [],
   "source": [
    "def weight_event(classification_event, deposited_energy_event):\n",
    "    if classification_event == 1.0:\n",
    "        N_bin = vals_1[np.digitize(deposited_energy_event, bins_1)]\n",
    "    elif classification_event == 2.0:\n",
    "        N_bin = vals_2[np.digitize(deposited_energy_event, bins_2)]\n",
    "    else: \n",
    "        N_bin = vals_3[np.digitize(deposited_energy_event, bins_3)]\n",
    "    return 1./N_bin\n"
   ]
  },
  {
   "cell_type": "code",
   "execution_count": null,
   "metadata": {},
   "outputs": [],
   "source": []
  },
  {
   "cell_type": "code",
   "execution_count": null,
   "metadata": {},
   "outputs": [],
   "source": []
  }
 ],
 "metadata": {
  "kernelspec": {
   "display_name": "Python 2",
   "language": "python",
   "name": "python2"
  },
  "language_info": {
   "codemirror_mode": {
    "name": "ipython",
    "version": 2
   },
   "file_extension": ".py",
   "mimetype": "text/x-python",
   "name": "python",
   "nbconvert_exporter": "python",
   "pygments_lexer": "ipython2",
   "version": "2.7.5"
  }
 },
 "nbformat": 4,
 "nbformat_minor": 2
}
