{
 "cells": [
  {
   "cell_type": "code",
   "execution_count": 2,
   "metadata": {},
   "outputs": [
    {
     "ename": "ImportError",
     "evalue": "No module named bazel",
     "output_type": "error",
     "traceback": [
      "\u001b[0;31m\u001b[0m",
      "\u001b[0;31mImportError\u001b[0mTraceback (most recent call last)",
      "\u001b[0;32m<ipython-input-2-f098b846eb78>\u001b[0m in \u001b[0;36m<module>\u001b[0;34m()\u001b[0m\n\u001b[0;32m----> 1\u001b[0;31m \u001b[0;32mimport\u001b[0m \u001b[0mbazel\u001b[0m\u001b[0;34m\u001b[0m\u001b[0m\n\u001b[0m",
      "\u001b[0;31mImportError\u001b[0m: No module named bazel"
     ]
    }
   ],
   "source": [
    "import bazel"
   ]
  },
  {
   "cell_type": "code",
   "execution_count": 1,
   "metadata": {},
   "outputs": [],
   "source": [
    "import numpy as np\n",
    "import numpy.ma as ma\n",
    "import os\n",
    "import pickle\n",
    "import matplotlib.pyplot as plt\n",
    "import matplotlib.patches as mpatches\n",
    "import itertools\n",
    "from matplotlib import gridspec\n",
    "import itertools"
   ]
  },
  {
   "cell_type": "code",
   "execution_count": 2,
   "metadata": {},
   "outputs": [],
   "source": [
    "DATA_DIR = \"/scratch9/mkron/data/NN_out\"\n"
   ]
  },
  {
   "cell_type": "code",
   "execution_count": 3,
   "metadata": {},
   "outputs": [],
   "source": [
    "run_range_min = 40\n",
    "run_range_max = 54"
   ]
  },
  {
   "cell_type": "code",
   "execution_count": 18,
   "metadata": {},
   "outputs": [
    {
     "name": "stdout",
     "output_type": "stream",
     "text": [
      "Log-File 40 does not exist\n",
      "Log-File 48 does not exist\n",
      "Log-File 49 does not exist\n",
      "Log-File 53 does not exist\n"
     ]
    }
   ],
   "source": [
    "max_values=[]\n",
    "miss=0\n",
    "for i in xrange(run_range_min,run_range_max+1):\n",
    "    logger_path = os.path.join(os.path.join(DATA_DIR, \"run{}\".format(i)), \"loss_logger.csv\")    \n",
    "    if os.path.exists(logger_path):\n",
    "        logger = np.delete(np.genfromtxt(logger_path, delimiter=','), 0, axis=0).T\n",
    "        max_acc_validation = np.max(logger[3])\n",
    "        max_values.append(max_acc_validation)\n",
    "    else:\n",
    "        print \"Log-File {} does not exist\".format(i)\n",
    "        max_values.append(0)\n",
    "        #miss +=1\n",
    "    \n",
    "    \n"
   ]
  },
  {
   "cell_type": "code",
   "execution_count": 21,
   "metadata": {},
   "outputs": [
    {
     "data": {
      "text/plain": [
       "[<matplotlib.lines.Line2D at 0x500b6d0>]"
      ]
     },
     "execution_count": 21,
     "metadata": {},
     "output_type": "execute_result"
    },
    {
     "data": {
      "image/png": "[encoded data removed]",
      "text/plain": [
       "<matplotlib.figure.Figure at 0x4f0f250>"
      ]
     },
     "metadata": {},
     "output_type": "display_data"
    }
   ],
   "source": [
    "x = np.linspace(run_range_min, run_range_max, num=run_range_max-run_range_min+1, endpoint=True)\n",
    "plt.plot(x, max_values, \"x\")\n",
    "#plt.set_title(\"Accuracy of validation for diffrent NN\")\n",
    "#plt.set_xlabel('NN of run')\n",
    "#plt.set_ylabel('accuracy on the validation set')\n"
   ]
  },
  {
   "cell_type": "code",
   "execution_count": 19,
   "metadata": {},
   "outputs": [],
   "source": []
  }
 ],
 "metadata": {
  "kernelspec": {
   "display_name": "Python 2",
   "language": "python",
   "name": "python2"
  },
  "language_info": {
   "codemirror_mode": {
    "name": "ipython",
    "version": 2
   },
   "file_extension": ".py",
   "mimetype": "text/x-python",
   "name": "python",
   "nbconvert_exporter": "python",
   "pygments_lexer": "ipython2",
   "version": "2.7.5"
  }
 },
 "nbformat": 4,
 "nbformat_minor": 2
}
